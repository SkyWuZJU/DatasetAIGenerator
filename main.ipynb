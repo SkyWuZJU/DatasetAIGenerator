{
 "cells": [
  {
   "cell_type": "code",
   "execution_count": 5,
   "metadata": {},
   "outputs": [],
   "source": [
    "initial_instructions = [\n",
    "    '3 * 6 - 1=?', # math\n",
    "    'How to cut an apple?', # general_qa\n",
    "    'How to make a cup of coffee?', # general_qa\n",
    "    'Now you are Elon Mask. Please write a tweet.', # role playing\n",
    "    'Please summarize the following paragraph: Dennis and Akiko Tito are the first two crewmembers announced on Starship’s second commercial spaceflight around the Moon. This will be Dennis’ second mission to space after becoming the first commercial astronaut to visit the International Space Station in 2001, and Akiko will be among the first women to fly around the Moon on a Starship. The Titos joined the mission to contribute to SpaceX’s long-term goal to advance human spaceflight and help make life multiplanetary. Over the course of a week, Starship and the crew will travel to the Moon, fly within 200 km of the Moon’s surface, and complete a full journey around the Moon before safely returning to Earth. This mission is expected to launch after the Polaris Program’s first flight of Starship and dearMoon.', # summarization\n",
    "    'Please help me to write a resignation letter.', # creative writing\n",
    "]\n",
    "\n",
    "initial_instructions_cn = [\n",
    "    '请给我讲一个故事', # Generate\n",
    "    '你是否可以给我提一个建议', # Suggest\n",
    "    '请你设计一款游戏', # Design\n",
    "    '请你计算1-100的总和', # Calculate\n",
    "    '华氏和摄氏度之间怎么转换', # Convert\n",
    "    '请你从以下这段话中找出这个人参与过的AI项目：在离职创业之前，姚星主导创建了腾讯首个人工智能实验室 AI Lab（2016 年）和首个机器人实验室 Robotics X （2018 年），曾推进腾讯在机器学习、计算机视觉、语音到自然语言处理等前沿 AI 技术的研究与应用，主导推出多个有行业影响力的应用与产品，包括国家围棋队 AI 陪练「绝艺」、王者荣耀 AI「绝悟」、中国首款临床用智能显微镜、AI 驱动的新药发现平台「云深智药」及腾讯智慧种植方案 iGrow 等。', # Find\n",
    "    '请举一个一夜暴富的例子', # Provide\n",
    "    '总结以下这段话：秉持开源精神，XVERSE-13B 代码采用 Apache-2.0 协议，向学术研究完全开源，企业只需简单登记，即可免费商用。哈尔滨工业大学（下称「哈工大」）作为我国最早从事自然语言处理研究的顶级科研团队，已经率先使用 XVERSE-13B 大模型推进相关研究工作。哈工大计算机科学与技术学院张伟男教授表示，「开源是互联网时代主流模式，不仅能贡献社区，推动技术持续创新，还能利用协同解决算法透明性、稳定性、公众信任度等共性问题。」', # Summarize\n",
    "    '怎么把以下几种动物分成两类比较好：猫、狗、鸡、大象、蜈蚣、鲤鱼', # Classify\n",
    "    '请你描述下中国和美国的不同', # Describe\n",
    "    '请你解释下声音是如何传播的？', # Explain\n",
    "    '写一个手机产品简介', # Write\n",
    "    '请你写一首古诗', # Create\n",
    "    '请重写这段话：元象 XVERSE 创始人姚星表示：「真实世界的感知智能（3D），与真实世界的认知智能（AI），是探索通用人工智能（AGI）的必由之路，也是元象持续探索 3D 与 AI 前沿技术的动力。XVERSE-13B 是我们在国产技术自立自强上迈出的一小步，而开源开放将激发大模型生态活力，让 AI 的未来发展迈出一大步，为实体经济、数字经济的发展注入强劲动力。我们期待与众多企业与开发者携手，开创大模型商用新纪元。」', # Rewrite\n",
    "\n",
    "]"
   ]
  },
  {
   "cell_type": "code",
   "execution_count": 7,
   "metadata": {},
   "outputs": [
    {
     "name": "stdout",
     "output_type": "stream",
     "text": [
      "-------------------------- add_constraints --------------------------\n",
      "旧指令:  请给我讲一个故事\n",
      "新指令:  请给我讲一个有关动物的故事，并且在故事中加入一个神秘的宝藏。\n",
      "\n",
      "旧指令:  你是否可以给我提一个建议\n",
      "新指令:  你是否可以给我提一个建议，但是建议必须包含至少三个具体的步骤或方法，以便我可以更好地实施它。\n",
      "\n",
      "旧指令:  请你设计一款游戏\n",
      "新指令:  请你设计一款游戏，要求游戏中必须包含至少三个不同种类的角色，并且每个角色都必须有独特的技能和属性。\n",
      "\n",
      "旧指令:  请你计算1-100的总和\n",
      "新指令:  请你计算1-100的总和，但是要求在计算过程中不能使用加法运算。\n",
      "\n",
      "旧指令:  华氏和摄氏度之间怎么转换\n"
     ]
    },
    {
     "name": "stderr",
     "output_type": "stream",
     "text": [
      "Retrying langchain.chat_models.openai.ChatOpenAI.completion_with_retry.<locals>._completion_with_retry in 1.0 seconds as it raised Timeout: Request timed out: HTTPSConnectionPool(host='xiaoma-openai.openai.azure.com', port=443): Read timed out. (read timeout=10.0).\n"
     ]
    },
    {
     "name": "stdout",
     "output_type": "stream",
     "text": [
      "新指令:  如何在考虑海拔高度的情况下将华氏温度转换为摄氏温度？\n",
      "\n",
      "旧指令:  请你从以下这段话中找出这个人参与过的AI项目：在离职创业之前，姚星主导创建了腾讯首个人工智能实验室 AI Lab（2016 年）和首个机器人实验室 Robotics X （2018 年），曾推进腾讯在机器学习、计算机视觉、语音到自然语言处理等前沿 AI 技术的研究与应用，主导推出多个有行业影响力的应用与产品，包括国家围棋队 AI 陪练「绝艺」、王者荣耀 AI「绝悟」、中国首款临床用智能显微镜、AI 驱动的新药发现平台「云深智药」及腾讯智慧种植方案 iGrow 等。\n",
      "新指令:  请你从以下这段话中找出这个人参与过的AI项目，并说明其中至少一项项目的技术难点和解决方案：在离职创业之前，姚星主导创建了腾讯首个人工智能实验室 AI Lab（2016 年）和首个机器人实验室 Robotics X （2018 年），曾推进腾讯在机器学习、计算机视觉、语音到自然语言处理等前沿 AI 技术的研究与应用，主导推出多个有行业影响力的应用与产品，包括国家围棋队 AI 陪练「绝艺」、王者荣耀 AI「绝悟」、中国首款临床用智能显微镜、AI 驱动的新药发现平台「云深智药」及腾讯智慧种植方案 iGrow 等。其中，王者荣耀 AI「绝悟」项目的技术难点在于如何让AI系统能够像人类一样理解游戏规则和策略，并做出相应的决策。解决方案是通过大量的数据训练和深度学习算法，让AI系统能够自主学习和优化游戏策略。\n",
      "\n",
      "旧指令:  请举一个一夜暴富的例子\n"
     ]
    },
    {
     "name": "stderr",
     "output_type": "stream",
     "text": [
      "Retrying langchain.chat_models.openai.ChatOpenAI.completion_with_retry.<locals>._completion_with_retry in 1.0 seconds as it raised Timeout: Request timed out: HTTPSConnectionPool(host='xiaoma-openai.openai.azure.com', port=443): Read timed out. (read timeout=10.0).\n"
     ]
    },
    {
     "name": "stdout",
     "output_type": "stream",
     "text": [
      "新指令:  请举一个一夜暴富的例子，并说明该例子的道德和法律合规性。\n",
      "\n",
      "旧指令:  总结以下这段话：秉持开源精神，XVERSE-13B 代码采用 Apache-2.0 协议，向学术研究完全开源，企业只需简单登记，即可免费商用。哈尔滨工业大学（下称「哈工大」）作为我国最早从事自然语言处理研究的顶级科研团队，已经率先使用 XVERSE-13B 大模型推进相关研究工作。哈工大计算机科学与技术学院张伟男教授表示，「开源是互联网时代主流模式，不仅能贡献社区，推动技术持续创新，还能利用协同解决算法透明性、稳定性、公众信任度等共性问题。」\n"
     ]
    },
    {
     "name": "stderr",
     "output_type": "stream",
     "text": [
      "Retrying langchain.chat_models.openai.ChatOpenAI.completion_with_retry.<locals>._completion_with_retry in 1.0 seconds as it raised Timeout: Request timed out: HTTPSConnectionPool(host='xiaoma-openai.openai.azure.com', port=443): Read timed out. (read timeout=10.0).\n"
     ]
    },
    {
     "name": "stdout",
     "output_type": "stream",
     "text": [
      "新指令:  总结以下这段话：秉持开源精神，XVERSE-13B 代码采用 Apache-2.0 协议，向学术研究完全开源，企业只需简单登记，即可免费商用。哈尔滨工业大学（下称「哈工大」）作为我国最早从事自然语言处理研究的顶级科研团队，已经率先使用 XVERSE-13B 大模型推进相关研究工作。哈工大计算机科学与技术学院张伟男教授表示，「开源是互联网时代主流模式，不仅能贡献社区，推动技术持续创新，还能利用协同解决算法透明性、稳定性、公众信任度等共性问题。」除了Apache-2.0协议，XVERSE-13B代码还需要遵守一项新的版权保护措施，以保护知识产权。\n",
      "\n",
      "旧指令:  怎么把以下几种动物分成两类比较好：猫、狗、鸡、大象、蜈蚣、鲤鱼\n",
      "新指令:  请在以下几种动物的基础上，增加一个条件来更好地将它们分成两类：猫、狗、鸡、大象、蜈蚣、鲤鱼。\n",
      "\n",
      "旧指令:  请你描述下中国和美国的不同\n",
      "新指令:  请你描述下中国和美国的不同，同时要求你的回答必须包含至少三个不同的方面，例如政治、经济和文化等。\n",
      "\n",
      "旧指令:  请你解释下声音是如何传播的？\n",
      "新指令:  请你解释下声音是如何在不同介质中传播的，同时需要考虑声波的频率和振幅对传播速度的影响。\n",
      "\n",
      "旧指令:  写一个手机产品简介\n",
      "新指令:  写一个手机产品简介，要求在介绍中加入该手机的环保特性。\n",
      "\n",
      "旧指令:  请你写一首古诗\n",
      "新指令:  请你写一首五言绝句的古诗，其中必须包含“秋”字。\n",
      "\n",
      "旧指令:  请重写这段话：元象 XVERSE 创始人姚星表示：「真实世界的感知智能（3D），与真实世界的认知智能（AI），是探索通用人工智能（AGI）的必由之路，也是元象持续探索 3D 与 AI 前沿技术的动力。XVERSE-13B 是我们在国产技术自立自强上迈出的一小步，而开源开放将激发大模型生态活力，让 AI 的未来发展迈出一大步，为实体经济、数字经济的发展注入强劲动力。我们期待与众多企业与开发者携手，开创大模型商用新纪元。」\n",
      "新指令:  请重写这段话：元象 XVERSE 创始人姚星表示：「真实世界的感知智能（3D），与真实世界的认知智能（AI），是探索通用人工智能（AGI）的必由之路，也是元象持续探索 3D 与 AI 前沿技术的动力。XVERSE-13B 是我们在国产技术自立自强上迈出的一小步，而开源开放将激发大模型生态活力，让 AI 的未来发展迈出一大步，为实体经济、数字经济的发展注入强劲动力。我们期待与众多企业与开发者携手，开创大模型商用新纪元。」\n",
      "\n",
      "请在以上段落中加入以下要求：除了技术上的突破，XVERSE-13B还必须符合环保标准，以确保其对环境的影响最小化。\n",
      "\n",
      "-------------------------- deepen --------------------------\n",
      "旧指令:  请给我讲一个故事\n",
      "新指令:  请给我讲一个富有哲理的故事，可以涉及人类情感、社会伦理、自然生态等多个方面，让我在听故事的同时能够思考人生意义和社会价值。\n",
      "\n",
      "旧指令:  你是否可以给我提一个建议\n",
      "新指令:  请问您能否就某个特定领域或问题给出更加详细和深入的建议呢？\n",
      "\n",
      "旧指令:  请你设计一款游戏\n",
      "新指令:  请你设计一款具有高度自由度和复杂性的游戏，要求玩家可以在游戏中自由探索、自主决策，并且游戏中的各种元素和机制都能够相互影响和交织在一起，从而创造出一个充满挑战和惊喜的游戏世界。请在设计中考虑玩家的心理和行为特征，以及游戏的可玩性和可持续性，使得玩家能够长期投入并享受游戏的乐趣。\n",
      "\n",
      "旧指令:  请你计算1-100的总和\n",
      "新指令:  请你计算1-100之间所有奇数的总和，并将结果与所有偶数的总和相加，最后得出1-100的总和。\n",
      "\n",
      "旧指令:  华氏和摄氏度之间怎么转换\n",
      "新指令:  请详细说明华氏和摄氏度之间的转换方法，包括转换公式和实际应用场景。同时，探讨一下不同地区对于温度计量单位的使用习惯和历史渊源。\n",
      "\n",
      "旧指令:  请你从以下这段话中找出这个人参与过的AI项目：在离职创业之前，姚星主导创建了腾讯首个人工智能实验室 AI Lab（2016 年）和首个机器人实验室 Robotics X （2018 年），曾推进腾讯在机器学习、计算机视觉、语音到自然语言处理等前沿 AI 技术的研究与应用，主导推出多个有行业影响力的应用与产品，包括国家围棋队 AI 陪练「绝艺」、王者荣耀 AI「绝悟」、中国首款临床用智能显微镜、AI 驱动的新药发现平台「云深智药」及腾讯智慧种植方案 iGrow 等。\n",
      "新指令:  请你详细列举出姚星在腾讯人工智能实验室 AI Lab（2016 年）和机器人实验室 Robotics X （2018 年）中推进的机器学习、计算机视觉、语音到自然语言处理等前沿 AI 技术的研究与应用，并介绍他主导推出的多个有行业影响力的应用与产品，包括国家围棋队 AI 陪练「绝艺」、王者荣耀 AI「绝悟」、中国首款临床用智能显微镜、AI 驱动的新药发现平台「云深智药」及腾讯智慧种植方案 iGrow 等。\n",
      "\n",
      "旧指令:  请举一个一夜暴富的例子\n"
     ]
    },
    {
     "name": "stderr",
     "output_type": "stream",
     "text": [
      "Retrying langchain.chat_models.openai.ChatOpenAI.completion_with_retry.<locals>._completion_with_retry in 1.0 seconds as it raised Timeout: Request timed out: HTTPSConnectionPool(host='xiaoma-openai.openai.azure.com', port=443): Read timed out. (read timeout=10.0).\n"
     ]
    },
    {
     "name": "stdout",
     "output_type": "stream",
     "text": [
      "新指令:  请举一个在短时间内获得巨额财富的案例，可以从不同领域和行业中进行选择，例如科技、金融、房地产等。同时，可以探讨这些成功案例背后的因素和策略，以及对个人和社会的影响。\n",
      "\n",
      "旧指令:  总结以下这段话：秉持开源精神，XVERSE-13B 代码采用 Apache-2.0 协议，向学术研究完全开源，企业只需简单登记，即可免费商用。哈尔滨工业大学（下称「哈工大」）作为我国最早从事自然语言处理研究的顶级科研团队，已经率先使用 XVERSE-13B 大模型推进相关研究工作。哈工大计算机科学与技术学院张伟男教授表示，「开源是互联网时代主流模式，不仅能贡献社区，推动技术持续创新，还能利用协同解决算法透明性、稳定性、公众信任度等共性问题。」\n",
      "新指令:  请对以下内容进行总结：XVERSE-13B 代码秉持开源精神，采用 Apache-2.0 协议，完全开源于学术研究领域，企业只需进行简单登记即可免费商用。哈尔滨工业大学是我国最早从事自然语言处理研究的顶级科研团队，他们已经率先使用 XVERSE-13B 大模型推进相关研究工作。张伟男教授表示，开源是互联网时代主流模式，不仅能够为社区做出贡献，推动技术的持续创新，还能够利用协同解决算法透明性、稳定性、公众信任度等共性问题。请问，您认为开源对于技术的发展和社区的贡献有何影响？\n",
      "\n",
      "旧指令:  怎么把以下几种动物分成两类比较好：猫、狗、鸡、大象、蜈蚣、鲤鱼\n",
      "新指令:  如何更好地将猫、狗、鸡、大象、蜈蚣和鲤鱼这几种动物分成两类？请提供更深入和广泛的分类方法。\n",
      "\n",
      "旧指令:  请你描述下中国和美国的不同\n",
      "新指令:  请详细描述中国和美国在政治、经济、文化、教育、科技等方面的差异，并分析这些差异背后的历史、社会和地理因素。同时，探讨这些差异对两国未来的发展和合作产生的影响。\n",
      "\n",
      "旧指令:  请你解释下声音是如何传播的？\n",
      "新指令:  请你详细解释下声音是如何在不同介质中传播的，包括但不限于空气、水、固体等，以及不同频率、振幅、波长的声音在传播过程中的变化和影响。\n",
      "\n",
      "旧指令:  写一个手机产品简介\n",
      "新指令:  请撰写一篇更加详细的手机产品介绍，包括该产品的设计理念、技术规格、功能特点、用户体验、市场竞争力等方面的内容。同时，您可以考虑加入该产品的历史背景、未来发展趋势、生产制造流程、环保可持续性等更深入的探讨，以便更好地展现该产品的价值和优势。\n",
      "\n",
      "旧指令:  请你写一首古诗\n",
      "新指令:  请你创作一首充满哲理、意境深远的古诗，表达出你对生命、自然、人生等深刻的思考和感悟。同时，你可以运用各种修辞手法和诗歌技巧，让这首古诗更加优美动人，让读者在阅读中感受到深深的情感共鸣。\n",
      "\n",
      "旧指令:  请重写这段话：元象 XVERSE 创始人姚星表示：「真实世界的感知智能（3D），与真实世界的认知智能（AI），是探索通用人工智能（AGI）的必由之路，也是元象持续探索 3D 与 AI 前沿技术的动力。XVERSE-13B 是我们在国产技术自立自强上迈出的一小步，而开源开放将激发大模型生态活力，让 AI 的未来发展迈出一大步，为实体经济、数字经济的发展注入强劲动力。我们期待与众多企业与开发者携手，开创大模型商用新纪元。」\n",
      "新指令:  姚星表示，元象 XVERSE 创始人认为，探索通用人工智能（AGI）的必由之路在于真实世界的感知智能（3D）和认知智能（AI）。这也是元象持续探索 3D 和 AI 前沿技术的动力。XVERSE-13B 是他们在国产技术自立自强上迈出的一小步，而开源开放将激发大模型生态活力，让 AI 的未来发展迈出一大步，为实体经济、数字经济的发展注入强劲动力。他们期待与众多企业与开发者携手，开创大模型商用新纪元，推动人工智能技术的发展。\n",
      "\n",
      "-------------------------- concretize --------------------------\n",
      "旧指令:  请给我讲一个故事\n",
      "新指令:  请给我讲一个关于一位年轻女子在上海法租界时期经历的爱情故事，其中包括她与一位富有的商人相遇并相爱，但由于社会阶层的差异和家庭反对，两人最终无法在一起的故事。\n",
      "\n",
      "旧指令:  你是否可以给我提一个建议\n",
      "新指令:  你是否可以就如何提高我公司的销售额给我提供一些具体的策略和方案？\n",
      "\n",
      "旧指令:  请你设计一款游戏\n",
      "新指令:  请你设计一款具有多元素、多关卡、多玩法、多人互动、多语言支持等特点的游戏，使得玩家可以在游戏中体验到更加丰富、多样化的游戏内容和游戏体验。同时，游戏应该具有高度的可玩性和挑战性，能够吸引并留住更多的玩家。\n",
      "\n",
      "旧指令:  请你计算1-100的总和\n",
      "新指令:  请你计算从1到100的所有整数的总和，其中包括1和100这两个数。\n",
      "\n",
      "旧指令:  华氏和摄氏度之间怎么转换\n",
      "新指令:  如何将华氏温度转换为摄氏温度并将结果四舍五入到小数点后两位？请参考下表中的公式进行计算。\n",
      "\n",
      "旧指令:  请你从以下这段话中找出这个人参与过的AI项目：在离职创业之前，姚星主导创建了腾讯首个人工智能实验室 AI Lab（2016 年）和首个机器人实验室 Robotics X （2018 年），曾推进腾讯在机器学习、计算机视觉、语音到自然语言处理等前沿 AI 技术的研究与应用，主导推出多个有行业影响力的应用与产品，包括国家围棋队 AI 陪练「绝艺」、王者荣耀 AI「绝悟」、中国首款临床用智能显微镜、AI 驱动的新药发现平台「云深智药」及腾讯智慧种植方案 iGrow 等。\n",
      "新指令:  请你从以下这段话中找出这个人参与过的AI项目：在姚星离职创业之前，他主导创建了腾讯首个人工智能实验室 AI Lab（2016 年）和首个机器人实验室 Robotics X （2018 年），并在其中推进了腾讯在机器学习、计算机视觉、语音到自然语言处理等前沿 AI 技术的研究与应用。此外，他还主导推出了多个有行业影响力的应用与产品，包括国家围棋队 AI 陪练「绝艺」、王者荣耀 AI「绝悟」、中国首款临床用智能显微镜、AI 驱动的新药发现平台「云深智药」及腾讯智慧种植方案 iGrow 等。\n",
      "\n",
      "旧指令:  请举一个一夜暴富的例子\n",
      "新指令:  请分享一个在短时间内获得巨额财富的案例，例如一夜暴富。\n",
      "\n",
      "旧指令:  总结以下这段话：秉持开源精神，XVERSE-13B 代码采用 Apache-2.0 协议，向学术研究完全开源，企业只需简单登记，即可免费商用。哈尔滨工业大学（下称「哈工大」）作为我国最早从事自然语言处理研究的顶级科研团队，已经率先使用 XVERSE-13B 大模型推进相关研究工作。哈工大计算机科学与技术学院张伟男教授表示，「开源是互联网时代主流模式，不仅能贡献社区，推动技术持续创新，还能利用协同解决算法透明性、稳定性、公众信任度等共性问题。」\n",
      "新指令:  总结以下这段话：哈尔滨工业大学（下称「哈工大」）作为我国最早从事自然语言处理研究的顶级科研团队，已经率先使用 XVERSE-13B 大模型推进相关研究工作。XVERSE-13B 代码采用 Apache-2.0 协议，秉持开源精神，向学术研究完全开源，企业只需简单登记，即可免费商用。张伟男教授指出，开源不仅能够贡献社区，推动技术持续创新，还能够利用协同解决算法透明性、稳定性、公众信任度等共性问题，是互联网时代主流模式。\n",
      "\n",
      "旧指令:  怎么把以下几种动物分成两类比较好：猫、狗、鸡、大象、蜈蚣、鲤鱼\n",
      "新指令:  如何更好地将以下动物分为两类：家猫、金毛犬、草鸡、非洲象、百足虫、草鱼。\n",
      "\n",
      "旧指令:  请你描述下中国和美国的不同\n",
      "新指令:  请你详细描述中国和美国在政治、经济、文化、教育等方面的差异，并分析这些差异背后的历史、社会和地理因素。同时，探讨这些差异对两国国际关系和全球影响的影响。\n",
      "\n",
      "旧指令:  请你解释下声音是如何传播的？\n",
      "新指令:  请你详细解释下声音是如何通过空气分子的振动传播到人耳中的，并且说明声音传播的速度和频率对声音传递的影响。同时，你可以通过实验或者数学公式来支持你的解释。\n",
      "\n",
      "旧指令:  写一个手机产品简介\n",
      "新指令:  撰写一篇关于一款高端智能手机的详细介绍，包括其最新的处理器、高清屏幕、多功能相机和智能语音助手等特点。同时，还需提及其支持的最新网络技术和安全功能，以及其设计和材质的特点。\n",
      "\n",
      "旧指令:  请你写一首古诗\n",
      "新指令:  请你创作一首五言绝句，以秋天的落叶为主题，表达对季节变迁的感慨。\n",
      "\n",
      "旧指令:  请重写这段话：元象 XVERSE 创始人姚星表示：「真实世界的感知智能（3D），与真实世界的认知智能（AI），是探索通用人工智能（AGI）的必由之路，也是元象持续探索 3D 与 AI 前沿技术的动力。XVERSE-13B 是我们在国产技术自立自强上迈出的一小步，而开源开放将激发大模型生态活力，让 AI 的未来发展迈出一大步，为实体经济、数字经济的发展注入强劲动力。我们期待与众多企业与开发者携手，开创大模型商用新纪元。」\n",
      "新指令:  元象 XVERSE 创始人姚星指出，探索通用人工智能（AGI）的必由之路在于真实世界的感知智能（3D）和认知智能（AI）。XVERSE-13B 是元象在国产技术自立自强上迈出的一小步，同时也是持续探索 3D 和 AI 前沿技术的动力。通过开源开放，将激发大模型生态活力，为实体经济和数字经济的发展注入强劲动力，让 AI 的未来发展迈出一大步。我们期待与众多企业和开发者携手，共同开创大模型商用新纪元。\n",
      "\n",
      "-------------------------- increase_reasoning --------------------------\n",
      "旧指令:  请给我讲一个故事\n",
      "新指令:  请给我讲一个由多个情节组成、需要进行多步推理才能理解的复杂故事。\n",
      "\n",
      "旧指令:  你是否可以给我提一个建议\n",
      "新指令:  请您提供一个详细的建议，需要包含多个步骤和复杂的推理过程，以便更好地满足我的需求。\n",
      "\n",
      "旧指令:  请你设计一款游戏\n",
      "新指令:  请你设计一款具有多层次思考的游戏，要求玩家在游戏中需要进行多步推理才能完成任务。\n",
      "\n",
      "旧指令:  请你计算1-100的总和\n",
      "新指令:  请你计算1-100之间所有奇数的总和，并将结果除以2，再加上所有偶数的总和，最后乘以3。\n",
      "\n",
      "旧指令:  华氏和摄氏度之间怎么转换\n"
     ]
    },
    {
     "name": "stderr",
     "output_type": "stream",
     "text": [
      "Retrying langchain.chat_models.openai.ChatOpenAI.completion_with_retry.<locals>._completion_with_retry in 1.0 seconds as it raised Timeout: Request timed out: HTTPSConnectionPool(host='xiaoma-openai.openai.azure.com', port=443): Read timed out. (read timeout=10.0).\n"
     ]
    },
    {
     "name": "stdout",
     "output_type": "stream",
     "text": [
      "新指令:  请详细描述将华氏度转换为摄氏度的多步骤推理过程。\n",
      "\n",
      "旧指令:  请你从以下这段话中找出这个人参与过的AI项目：在离职创业之前，姚星主导创建了腾讯首个人工智能实验室 AI Lab（2016 年）和首个机器人实验室 Robotics X （2018 年），曾推进腾讯在机器学习、计算机视觉、语音到自然语言处理等前沿 AI 技术的研究与应用，主导推出多个有行业影响力的应用与产品，包括国家围棋队 AI 陪练「绝艺」、王者荣耀 AI「绝悟」、中国首款临床用智能显微镜、AI 驱动的新药发现平台「云深智药」及腾讯智慧种植方案 iGrow 等。\n",
      "新指令:  请列举出姚星在不同领域的多个AI项目，包括但不限于机器学习、计算机视觉、语音到自然语言处理等，并详细描述他在每个项目中的角色和贡献。在离职创业之前，姚星主导创建了腾讯首个人工智能实验室 AI Lab（2016 年）和首个机器人实验室 Robotics X （2018 年），并推出多个有行业影响力的应用与产品，例如国家围棋队 AI 陪练「绝艺」、王者荣耀 AI「绝悟」、中国首款临床用智能显微镜、AI 驱动的新药发现平台「云深智药」及腾讯智慧种植方案 iGrow 等。请详细描述每个项目的技术难点和解决方案，以及姚星在其中的具体贡献和领导作用。\n",
      "\n",
      "旧指令:  请举一个一夜暴富的例子\n",
      "新指令:  请举一个需要经过多步推理才能得出的一夜暴富的例子。\n",
      "\n",
      "旧指令:  总结以下这段话：秉持开源精神，XVERSE-13B 代码采用 Apache-2.0 协议，向学术研究完全开源，企业只需简单登记，即可免费商用。哈尔滨工业大学（下称「哈工大」）作为我国最早从事自然语言处理研究的顶级科研团队，已经率先使用 XVERSE-13B 大模型推进相关研究工作。哈工大计算机科学与技术学院张伟男教授表示，「开源是互联网时代主流模式，不仅能贡献社区，推动技术持续创新，还能利用协同解决算法透明性、稳定性、公众信任度等共性问题。」\n"
     ]
    },
    {
     "name": "stderr",
     "output_type": "stream",
     "text": [
      "Retrying langchain.chat_models.openai.ChatOpenAI.completion_with_retry.<locals>._completion_with_retry in 1.0 seconds as it raised Timeout: Request timed out: HTTPSConnectionPool(host='xiaoma-openai.openai.azure.com', port=443): Read timed out. (read timeout=10.0).\n"
     ]
    },
    {
     "name": "stdout",
     "output_type": "stream",
     "text": [
      "新指令:  请对以下内容进行总结，并说明XVERSE-13B代码采用的Apache-2.0协议，使其完全开源，企业只需进行简单登记即可免费商用。哈尔滨工业大学是我国最早从事自然语言处理研究的顶级科研团队，他们率先使用XVERSE-13B大模型推进相关研究工作。哈工大计算机科学与技术学院张伟男教授表示，开源是互联网时代主流模式，不仅能够为社区做出贡献，推动技术的持续创新，还能够利用协同解决算法透明性、稳定性、公众信任度等共性问题。请问，您认为哈工大的自然语言处理研究在哪些方面可以得到进一步的发展和应用？\n",
      "\n",
      "旧指令:  怎么把以下几种动物分成两类比较好：猫、狗、鸡、大象、蜈蚣、鲤鱼\n",
      "新指令:  请用多步推理的方式将以下动物分成两类：猫、狗、鸡、大象、蜈蚣、鲤鱼。\n",
      "\n",
      "旧指令:  请你描述下中国和美国的不同\n",
      "新指令:  请详细描述中国和美国在政治、经济、文化、社会等多个方面的差异，并分析这些差异背后的历史、地理、人口等多种因素的影响。请提供具体数据和案例支持你的观点。\n",
      "\n",
      "旧指令:  请你解释下声音是如何传播的？\n",
      "新指令:  请你详细解释声音是如何在不同介质中传播的，包括但不限于空气、水和固体物体，并说明声音传播的机理和影响因素。\n",
      "\n",
      "旧指令:  写一个手机产品简介\n",
      "新指令:  请根据以下表格提供的信息，撰写一篇关于一款手机产品的详细介绍。在介绍中，需要涉及该产品的设计、功能、性能、用户体验等多个方面，并且需要进行多步推理和分析，以便更好地展现该产品的特点和优势。\n",
      "\n",
      "旧指令:  请你写一首古诗\n",
      "新指令:  请你写一首古诗，其中必须包含至少三个意象，每个意象都必须与自然或人类文化有关，并且需要使用至少两个修辞手法来表达诗歌的情感和主题。\n",
      "\n",
      "旧指令:  请重写这段话：元象 XVERSE 创始人姚星表示：「真实世界的感知智能（3D），与真实世界的认知智能（AI），是探索通用人工智能（AGI）的必由之路，也是元象持续探索 3D 与 AI 前沿技术的动力。XVERSE-13B 是我们在国产技术自立自强上迈出的一小步，而开源开放将激发大模型生态活力，让 AI 的未来发展迈出一大步，为实体经济、数字经济的发展注入强劲动力。我们期待与众多企业与开发者携手，开创大模型商用新纪元。」\n",
      "新指令:  元象 XVERSE 创始人姚星指出，要探索通用人工智能（AGI），必须同时探索真实世界的感知智能（3D）和认知智能（AI），这需要进行多步推理。XVERSE-13B 是元象在国产技术自立自强上迈出的一小步，同时开源开放将激发大模型生态活力，为实体经济和数字经济的发展注入强劲动力。我们期待与众多企业和开发者携手，共同开创大模型商用新纪元，这需要进行多步推理和深入思考。\n",
      "\n"
     ]
    }
   ],
   "source": [
    "import instruction_gen\n",
    "\n",
    "def try_instruction_gen(given_prompt_list: list, method_list: list):\n",
    "    \"\"\"\n",
    "    given_prompt_list: a list of given prompts\n",
    "    method_list: a list of method names in instruction_gen.py, each method is a string\n",
    "    \"\"\"\n",
    "    for method in method_list:\n",
    "        print('--------------------------', method, '--------------------------')\n",
    "        for given_prompt in given_prompt_list:\n",
    "            print(\"旧指令: \", given_prompt)\n",
    "            print(\"新指令: \", getattr(instruction_gen, method, \"Only these methods are supported: 'add_constraints', 'deepen', 'concretize', 'increase_reasoning', 'enhance_diversity'\")(given_prompt))\n",
    "            print(\"\")\n",
    "\n",
    "try_instruction_gen(\n",
    "    given_prompt_list = initial_instructions_cn,\n",
    "    method_list = ['add_constraints', 'deepen', 'concretize', 'increase_reasoning'],\n",
    "    # method_list = ['add_constraints', 'deepen', 'concretize', 'increase_reasoning', 'enhance_diversity']\n",
    ")"
   ]
  },
  {
   "cell_type": "markdown",
   "metadata": {},
   "source": [
    "# 指令生成主体"
   ]
  },
  {
   "cell_type": "code",
   "execution_count": null,
   "metadata": {},
   "outputs": [],
   "source": [
    "# 初始指令(1) => 四种in_depth生成各一次(4) => in_breadth生成各一次(8) => 四种in_depth生成各一次(40) => 和初始指令比对过滤\n",
    "\n",
    "import instruction_gen, data_filter\n",
    "\n",
    "def main(given_prompt):\n",
    "    # First round: indepth generation\n",
    "    first_batch = []\n",
    "    first_batch.append(instruction_gen.add_constraints(given_prompt))\n",
    "    first_batch.append(instruction_gen.deepen(given_prompt))\n",
    "    first_batch.append(instruction_gen.concretize(given_prompt))\n",
    "    first_batch.append(instruction_gen.increase_reasoning(given_prompt))\n",
    "    first_batch = [given_prompt] + first_batch\n",
    "\n",
    "    # Second round: inbreadth generation\n",
    "    second_batch = []\n",
    "    for prompt in first_batch:\n",
    "        second_batch.append(instruction_gen.enhance_diversity(prompt))\n",
    "    second_batch = first_batch + second_batch\n",
    "\n",
    "    # Third round: indepth generation again\n",
    "    third_batch = []\n",
    "    for prompt in second_batch:\n",
    "        third_batch.append(instruction_gen.add_constraints(prompt))\n",
    "        third_batch.append(instruction_gen.deepen(prompt))\n",
    "        third_batch.append(instruction_gen.concretize(prompt))\n",
    "        third_batch.append(instruction_gen.increase_reasoning(prompt))\n",
    "    third_batch = second_batch + third_batch\n",
    "    \n",
    "    # Fourth round: filter the new prompts\n",
    "    # fourth_batch = [prompt for prompt in third_batch if data_filter.prompt_filter(prompt)]\n",
    "\n",
    "    return third_batch\n",
    "\n",
    "evolved_prompts = main(\"1+1=?\")\n",
    "\n",
    "for prompt in evolved_prompts:\n",
    "    print('')\n",
    "    print(prompt)"
   ]
  },
  {
   "cell_type": "code",
   "execution_count": null,
   "metadata": {},
   "outputs": [],
   "source": [
    "from instruction_gen import add_constraints, deepen, concretize, increase_reasoning, enhance_diversity\n",
    "\n",
    "def round(data: list):\n",
    "    first_batch = []\n",
    "    first_batch += data\n",
    "    for prompt in data:\n",
    "        first_batch.append(add_constraints(prompt))\n",
    "        first_batch.append(deepen(prompt))\n",
    "        first_batch.append(concretize(prompt))\n",
    "        first_batch.append(increase_reasoning(prompt))\n",
    "    \n",
    "    second_batch = []\n",
    "    for prompt in first_batch:\n",
    "        second_batch.append(enhance_diversity(prompt))\n",
    "        \n",
    "    return first_batch.extend(second_batch)\n",
    "\n",
    "\n",
    "def main(given_prompt, n=4):\n",
    "    data = [given_prompt]\n",
    "    for i in range(n):\n",
    "        data += round(data)"
   ]
  }
 ],
 "metadata": {
  "kernelspec": {
   "display_name": "base",
   "language": "python",
   "name": "python3"
  },
  "language_info": {
   "codemirror_mode": {
    "name": "ipython",
    "version": 3
   },
   "file_extension": ".py",
   "mimetype": "text/x-python",
   "name": "python",
   "nbconvert_exporter": "python",
   "pygments_lexer": "ipython3",
   "version": "3.11.3"
  },
  "orig_nbformat": 4
 },
 "nbformat": 4,
 "nbformat_minor": 2
}
